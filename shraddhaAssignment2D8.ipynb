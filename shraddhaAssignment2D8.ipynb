{
  "nbformat": 4,
  "nbformat_minor": 0,
  "metadata": {
    "colab": {
      "name": "shraddhaAssignment2D8.ipynb",
      "provenance": []
    },
    "kernelspec": {
      "name": "python3",
      "display_name": "Python 3"
    }
  },
  "cells": [
    {
      "cell_type": "code",
      "metadata": {
        "id": "vMD2fzij7EFU",
        "colab_type": "code",
        "colab": {
          "base_uri": "https://localhost:8080/",
          "height": 51
        },
        "outputId": "395ee25f-40ed-40d9-de66-450249cafd21"
      },
      "source": [
        "filename = input(\"Enter file name: \")\n",
        "\n",
        "try:\n",
        "    f = open(filename, \"r\")\n",
        "\n",
        "    for line in f:\n",
        "        print(line, end=\"\")\n",
        "\n",
        "\n",
        "except FileNotFoundError:\n",
        "    print(\"File doesn't exist \")\n"
      ],
      "execution_count": 5,
      "outputs": [
        {
          "output_type": "stream",
          "text": [
            "Enter file name: file_doesnt_exists.doc\n",
            "File doesn't exist \n"
          ],
          "name": "stdout"
        }
      ]
    },
    {
      "cell_type": "code",
      "metadata": {
        "id": "uBsHfBBn9j7L",
        "colab_type": "code",
        "colab": {}
      },
      "source": [
        ""
      ],
      "execution_count": null,
      "outputs": []
    }
  ]
}